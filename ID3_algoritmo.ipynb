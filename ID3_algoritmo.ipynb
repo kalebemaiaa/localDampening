{
 "cells": [
  {
   "cell_type": "code",
   "execution_count": null,
   "metadata": {},
   "outputs": [],
   "source": [
    "%pip install numpy"
   ]
  },
  {
   "cell_type": "code",
   "execution_count": null,
   "metadata": {},
   "outputs": [],
   "source": [
    "%pip install pandas"
   ]
  },
  {
   "cell_type": "code",
   "execution_count": null,
   "metadata": {},
   "outputs": [],
   "source": [
    "%pip install networkx"
   ]
  },
  {
   "cell_type": "code",
   "execution_count": null,
   "metadata": {},
   "outputs": [],
   "source": [
    "%pip install matplotlib"
   ]
  },
  {
   "cell_type": "code",
   "execution_count": null,
   "metadata": {},
   "outputs": [],
   "source": [
    "%pip install tqdm"
   ]
  },
  {
   "cell_type": "code",
   "execution_count": 296,
   "metadata": {},
   "outputs": [],
   "source": [
    "import numpy as np\n",
    "import pandas as pd\n",
    "import networkx as nx\n",
    "import matplotlib.pyplot as plt \n",
    "from tqdm import tqdm\n",
    "from networkx.drawing.nx_pydot import graphviz_layout"
   ]
  },
  {
   "cell_type": "markdown",
   "metadata": {},
   "source": [
    "# Base para todos"
   ]
  },
  {
   "cell_type": "code",
   "execution_count": 409,
   "metadata": {},
   "outputs": [],
   "source": [
    "def exp_mechanism_geral(data, score_func, list_outputs, epsilon, global_sensivity, target = None):\n",
    "    scores = [score_func(data, out, target) if target != None else score_func(data, out) for out in list_outputs]\n",
    "    probs = [np.exp(epsilon * score / (2 * global_sensivity)) for score in scores]\n",
    "    probs_normalizadas = probs / np.linalg.norm(probs, ord=1)\n",
    "\n",
    "    return np.random.choice(list_outputs, 1, p=probs_normalizadas)[0]\n",
    "\n",
    "def dampening_function(data, output, score_func, delta_func, target = None):\n",
    "    def b_func(data, i, output):\n",
    "        if i == 0:\n",
    "            return 0\n",
    "        return sum([delta_func(data, j, output, target) if target != None else delta_func(data, j, output) for j in range(i - 1)])\n",
    "    \n",
    "    i = 0  \n",
    "    score = score_func(data, output, target) if target != None else score_func(data, output)\n",
    "    while True:\n",
    "        b_i = b_func(data, i, output)\n",
    "        b_ipp = b_func(data, i + 1, output)\n",
    "        if (score > 0 and (score < b_i or score >= b_ipp)) or (score < 0 and (score < -b_ipp or score >= -b_i)):\n",
    "            i += 1\n",
    "            continue\n",
    "\n",
    "        return (score - b_i) / (b_ipp - b_i) + i if score > 0 else (score + b_i) / (-b_ipp + b_i) - i\n",
    "\n",
    "def local_dampening_mechanism(data, score_func, delta_func, list_outputs, epsilon, target = None):\n",
    "    scores = [dampening_function(data, out, score_func, delta_func, target) if target != None else dampening_function(data, out, score_func, delta_func) for out in list_outputs]\n",
    "    probs = [np.exp(epsilon * score / 2) for score in scores]\n",
    "    probs_normalizadas = probs / np.linalg.norm(probs, ord=1)\n",
    "    return np.random.choice(list_outputs, 1, p=probs_normalizadas)[0]\n",
    "\n",
    "\n",
    "\n",
    "def permute_and_flip(data, score_func, list_outputs, epsilon, global_sensivity):\n",
    "    max_score = max([score_func(data, out) for out in list_outputs])\n",
    "    # aqui talvez seja interessante copiar e passar a copia da list_ouputs\n",
    "    np.random.shuffle(list_outputs)\n",
    "    for r in list_outputs:\n",
    "        prob = np.exp(epsilon * (score_func(data, r) - max_score) / (2 * global_sensivity))\n",
    "        if np.random.rand() < prob:\n",
    "            return r\n"
   ]
  },
  {
   "cell_type": "markdown",
   "metadata": {},
   "source": [
    "# Algoritmo 7"
   ]
  },
  {
   "cell_type": "code",
   "execution_count": 5,
   "metadata": {},
   "outputs": [
    {
     "data": {
      "text/html": [
       "<div>\n",
       "<style scoped>\n",
       "    .dataframe tbody tr th:only-of-type {\n",
       "        vertical-align: middle;\n",
       "    }\n",
       "\n",
       "    .dataframe tbody tr th {\n",
       "        vertical-align: top;\n",
       "    }\n",
       "\n",
       "    .dataframe thead th {\n",
       "        text-align: right;\n",
       "    }\n",
       "</style>\n",
       "<table border=\"1\" class=\"dataframe\">\n",
       "  <thead>\n",
       "    <tr style=\"text-align: right;\">\n",
       "      <th></th>\n",
       "      <th>Outlook</th>\n",
       "      <th>Wind</th>\n",
       "      <th>Decision</th>\n",
       "    </tr>\n",
       "  </thead>\n",
       "  <tbody>\n",
       "    <tr>\n",
       "      <th>0</th>\n",
       "      <td>rain</td>\n",
       "      <td>strong</td>\n",
       "      <td>Y</td>\n",
       "    </tr>\n",
       "    <tr>\n",
       "      <th>1</th>\n",
       "      <td>rain</td>\n",
       "      <td>weak</td>\n",
       "      <td>N</td>\n",
       "    </tr>\n",
       "    <tr>\n",
       "      <th>2</th>\n",
       "      <td>sun</td>\n",
       "      <td>strong</td>\n",
       "      <td>Y</td>\n",
       "    </tr>\n",
       "    <tr>\n",
       "      <th>3</th>\n",
       "      <td>sun</td>\n",
       "      <td>weak</td>\n",
       "      <td>N</td>\n",
       "    </tr>\n",
       "    <tr>\n",
       "      <th>4</th>\n",
       "      <td>sun</td>\n",
       "      <td>strong</td>\n",
       "      <td>N</td>\n",
       "    </tr>\n",
       "  </tbody>\n",
       "</table>\n",
       "</div>"
      ],
      "text/plain": [
       "  Outlook    Wind Decision\n",
       "0    rain  strong        Y\n",
       "1    rain    weak        N\n",
       "2     sun  strong        Y\n",
       "3     sun    weak        N\n",
       "4     sun  strong        N"
      ]
     },
     "execution_count": 5,
     "metadata": {},
     "output_type": "execute_result"
    }
   ],
   "source": [
    "data = {\n",
    " \"Outlook\": [\"rain\", \"rain\", \"sun\", \"sun\", \"sun\"], \n",
    " \"Wind\": [\"strong\", \"weak\", \"strong\", \"weak\", \"strong\"], \n",
    " \"Decision\":  [\"Y\", \"N\", \"Y\", \"N\", \"N\"]\n",
    "}\n",
    "\n",
    "df = pd.DataFrame(data)\n",
    "df"
   ]
  },
  {
   "cell_type": "code",
   "execution_count": 429,
   "metadata": {},
   "outputs": [],
   "source": [
    "def get_canditates(data, t, value_column, target, coluna, label):\n",
    "    # se a distancia for 0\n",
    "    if t == 0:\n",
    "      # dataframe onde o atributo A possui valor j\n",
    "      ## no caso, a coluna possui value_column\n",
    "      qtd_T_value_columnA = data[data[coluna] == value_column]\n",
    "      # dataframe onde o atributo A possui valor j e alvo é c de C\n",
    "      ## no caso, a coluna possui value_column e o label é oque procuramos\n",
    "      value_columnA_target = qtd_T_value_columnA[qtd_T_value_columnA[label] == target]\n",
    "\n",
    "      return qtd_T_value_columnA.shape[0], value_columnA_target.shape[0]\n",
    "    candidates = get_canditates(data, t-1, value_column, target, coluna, label)\n",
    "    validos_candidates = []\n",
    "\n",
    "    print(candidates)\n",
    "    if isinstance(candidates, tuple):\n",
    "      x, y = candidates\n",
    "      if x > 0 and y > 0:\n",
    "          validos_candidates.append((x - 1, y - 1))\n",
    "      if x < data.shape[0]:\n",
    "        validos_candidates.append((x + 1, y))\n",
    "    else:\n",
    "      for x, y in candidates:\n",
    "        if x > 0 and y > 0:\n",
    "          validos_candidates.append((x - 1, y - 1))\n",
    "        if x < data.shape[0]:\n",
    "          validos_candidates.append((x + 1, y))\n",
    "    return validos_candidates\n",
    "\n",
    "def h_func(x, y):\n",
    "    def f_func(x, somar = False):\n",
    "        return x * np.log2((x + 1) / x) + np.log2(x + 1) if somar else x * np.log2((x - 1) / x) - np.log2(x - 1)\n",
    "    return max(f_func(x, True) - f_func(y, True), f_func(x) - f_func(y))\n",
    "\n",
    "def local_sensivity_at_tDistance_alg7(data:pd.DataFrame, t:float, col_val, target):\n",
    "    '''\n",
    "    data = dataframe\n",
    "\n",
    "    t = distâncuia\n",
    "\n",
    "    col_val = uma coluna do dataframe\n",
    "\n",
    "    target_values = lista com todas saídas possíveis do label\n",
    "    '''\n",
    "    H = []\n",
    "    for a in data[col_val].unique():\n",
    "      # iterar sobre as classes daquela coluna\n",
    "      for c in data[target].unique():\n",
    "        # ver os candidatos\n",
    "        candidates = get_canditates(data, t, a, c, col_val, target)\n",
    "        # para cada candidato, calcular a h_func e add a H\n",
    "        # print(type(candidates))\n",
    "        if isinstance(candidates, tuple):\n",
    "           H.append(h_func(candidates[0], candidates[1]))\n",
    "        else:\n",
    "          print(\"DOITOOODASKDOAK\")\n",
    "          for x, y in candidates:\n",
    "            H.append(h_func(x,y))\n",
    "    # retoanr o maior valor H (entropy)\n",
    "    return max(H)"
   ]
  },
  {
   "cell_type": "code",
   "execution_count": 430,
   "metadata": {},
   "outputs": [
    {
     "name": "stdout",
     "output_type": "stream",
     "text": [
      "(2, 1)\n",
      "DOITOOODASKDOAK\n"
     ]
    },
    {
     "name": "stderr",
     "output_type": "stream",
     "text": [
      "C:\\Users\\b47133\\AppData\\Local\\Temp\\ipykernel_12044\\3488727077.py:32: RuntimeWarning: divide by zero encountered in log2\n",
      "  return x * np.log2((x + 1) / x) + np.log2(x + 1) if somar else x * np.log2((x - 1) / x) - np.log2(x - 1)\n",
      "C:\\Users\\b47133\\AppData\\Local\\Temp\\ipykernel_12044\\3488727077.py:32: RuntimeWarning: invalid value encountered in scalar subtract\n",
      "  return x * np.log2((x + 1) / x) + np.log2(x + 1) if somar else x * np.log2((x - 1) / x) - np.log2(x - 1)\n"
     ]
    },
    {
     "ename": "ZeroDivisionError",
     "evalue": "division by zero",
     "output_type": "error",
     "traceback": [
      "\u001b[1;31m---------------------------------------------------------------------------\u001b[0m",
      "\u001b[1;31mZeroDivisionError\u001b[0m                         Traceback (most recent call last)",
      "Cell \u001b[1;32mIn[430], line 88\u001b[0m\n\u001b[0;32m     85\u001b[0m epsilon \u001b[38;5;241m=\u001b[39m \u001b[38;5;241m10\u001b[39m\n\u001b[0;32m     87\u001b[0m \u001b[38;5;66;03m# Chame a função global_diff_PID3 para construir a árvore de decisão diferencial com privacidade global\u001b[39;00m\n\u001b[1;32m---> 88\u001b[0m arvore_molde \u001b[38;5;241m=\u001b[39m \u001b[43mglobal_diff_PID3\u001b[49m\u001b[43m(\u001b[49m\u001b[43mdf\u001b[49m\u001b[43m,\u001b[49m\u001b[43m \u001b[49m\u001b[38;5;124;43m\"\u001b[39;49m\u001b[38;5;124;43mDecision\u001b[39;49m\u001b[38;5;124;43m\"\u001b[39;49m\u001b[43m,\u001b[49m\u001b[43m \u001b[49m\u001b[38;5;241;43m2\u001b[39;49m\u001b[43m,\u001b[49m\u001b[43m \u001b[49m\u001b[43mepsilon\u001b[49m\u001b[43m)\u001b[49m\n\u001b[0;32m     89\u001b[0m \u001b[38;5;28mprint\u001b[39m(arvore_molde)\n",
      "Cell \u001b[1;32mIn[430], line 82\u001b[0m, in \u001b[0;36mglobal_diff_PID3\u001b[1;34m(data, target, profundidade, privacy_budget)\u001b[0m\n\u001b[0;32m     80\u001b[0m lista_colunas \u001b[38;5;241m=\u001b[39m data\u001b[38;5;241m.\u001b[39mcolumns\u001b[38;5;241m.\u001b[39mto_list()\n\u001b[0;32m     81\u001b[0m lista_colunas\u001b[38;5;241m.\u001b[39mremove(target)\n\u001b[1;32m---> 82\u001b[0m \u001b[38;5;28;01mreturn\u001b[39;00m \u001b[43mbuild_diff_PID3\u001b[49m\u001b[43m(\u001b[49m\u001b[43mdata\u001b[49m\u001b[43m,\u001b[49m\u001b[43m \u001b[49m\u001b[43mlista_colunas\u001b[49m\u001b[43m,\u001b[49m\u001b[43m \u001b[49m\u001b[43mtarget\u001b[49m\u001b[43m,\u001b[49m\u001b[43m \u001b[49m\u001b[43mprofundidade\u001b[49m\u001b[43m,\u001b[49m\u001b[43m \u001b[49m\u001b[43mepsilon\u001b[49m\u001b[43m)\u001b[49m\n",
      "Cell \u001b[1;32mIn[430], line 58\u001b[0m, in \u001b[0;36mbuild_diff_PID3\u001b[1;34m(data, list_columns, target, profundidade, epsilon)\u001b[0m\n\u001b[0;32m     54\u001b[0m     \u001b[38;5;28;01mreturn\u001b[39;00m (data_target_list[data_output_partitions\u001b[38;5;241m.\u001b[39mindex(max_Nc)]) \n\u001b[0;32m     56\u001b[0m \u001b[38;5;66;03m# columns_hat = exp_mechanism_geral(data, score_func_exp, list_columns, epsilon, np.log2(data.shape[0] + 1) + 1/np.log(2), target)\u001b[39;00m\n\u001b[0;32m     57\u001b[0m \u001b[38;5;66;03m# local_sensivity_at_tDistance_alg7\u001b[39;00m\n\u001b[1;32m---> 58\u001b[0m columns_hat \u001b[38;5;241m=\u001b[39m \u001b[43mlocal_dampening_mechanism\u001b[49m\u001b[43m(\u001b[49m\u001b[43mdata\u001b[49m\u001b[43m,\u001b[49m\u001b[43m \u001b[49m\u001b[43mscore_func_exp\u001b[49m\u001b[43m,\u001b[49m\u001b[43m \u001b[49m\u001b[43mlocal_sensivity_at_tDistance_alg7\u001b[49m\u001b[43m,\u001b[49m\u001b[43m \u001b[49m\u001b[43mlist_columns\u001b[49m\u001b[43m,\u001b[49m\u001b[43m \u001b[49m\u001b[43mepsilon\u001b[49m\u001b[43m,\u001b[49m\u001b[43m \u001b[49m\u001b[43mtarget\u001b[49m\u001b[43m)\u001b[49m\n\u001b[0;32m     59\u001b[0m data_i \u001b[38;5;241m=\u001b[39m [(data[data[columns_hat] \u001b[38;5;241m==\u001b[39m i], i ) \u001b[38;5;28;01mfor\u001b[39;00m i \u001b[38;5;129;01min\u001b[39;00m data[columns_hat]\u001b[38;5;241m.\u001b[39munique()]\n\u001b[0;32m     60\u001b[0m list_columns\u001b[38;5;241m.\u001b[39mremove(columns_hat)\n",
      "Cell \u001b[1;32mIn[409], line 26\u001b[0m, in \u001b[0;36mlocal_dampening_mechanism\u001b[1;34m(data, score_func, delta_func, list_outputs, epsilon, target)\u001b[0m\n\u001b[0;32m     25\u001b[0m \u001b[38;5;28;01mdef\u001b[39;00m \u001b[38;5;21mlocal_dampening_mechanism\u001b[39m(data, score_func, delta_func, list_outputs, epsilon, target \u001b[38;5;241m=\u001b[39m \u001b[38;5;28;01mNone\u001b[39;00m):\n\u001b[1;32m---> 26\u001b[0m     scores \u001b[38;5;241m=\u001b[39m [\u001b[43mdampening_function\u001b[49m\u001b[43m(\u001b[49m\u001b[43mdata\u001b[49m\u001b[43m,\u001b[49m\u001b[43m \u001b[49m\u001b[43mout\u001b[49m\u001b[43m,\u001b[49m\u001b[43m \u001b[49m\u001b[43mscore_func\u001b[49m\u001b[43m,\u001b[49m\u001b[43m \u001b[49m\u001b[43mdelta_func\u001b[49m\u001b[43m,\u001b[49m\u001b[43m \u001b[49m\u001b[43mtarget\u001b[49m\u001b[43m)\u001b[49m \u001b[38;5;28;01mif\u001b[39;00m target \u001b[38;5;241m!=\u001b[39m \u001b[38;5;28;01mNone\u001b[39;00m \u001b[38;5;28;01melse\u001b[39;00m dampening_function(data, out, score_func, delta_func) \u001b[38;5;28;01mfor\u001b[39;00m out \u001b[38;5;129;01min\u001b[39;00m list_outputs]\n\u001b[0;32m     27\u001b[0m     probs \u001b[38;5;241m=\u001b[39m [np\u001b[38;5;241m.\u001b[39mexp(epsilon \u001b[38;5;241m*\u001b[39m score \u001b[38;5;241m/\u001b[39m \u001b[38;5;241m2\u001b[39m) \u001b[38;5;28;01mfor\u001b[39;00m score \u001b[38;5;129;01min\u001b[39;00m scores]\n\u001b[0;32m     28\u001b[0m     probs_normalizadas \u001b[38;5;241m=\u001b[39m probs \u001b[38;5;241m/\u001b[39m np\u001b[38;5;241m.\u001b[39mlinalg\u001b[38;5;241m.\u001b[39mnorm(probs, \u001b[38;5;28mord\u001b[39m\u001b[38;5;241m=\u001b[39m\u001b[38;5;241m1\u001b[39m)\n",
      "Cell \u001b[1;32mIn[409], line 18\u001b[0m, in \u001b[0;36mdampening_function\u001b[1;34m(data, output, score_func, delta_func, target)\u001b[0m\n\u001b[0;32m     16\u001b[0m \u001b[38;5;28;01mwhile\u001b[39;00m \u001b[38;5;28;01mTrue\u001b[39;00m:\n\u001b[0;32m     17\u001b[0m     b_i \u001b[38;5;241m=\u001b[39m b_func(data, i, output)\n\u001b[1;32m---> 18\u001b[0m     b_ipp \u001b[38;5;241m=\u001b[39m \u001b[43mb_func\u001b[49m\u001b[43m(\u001b[49m\u001b[43mdata\u001b[49m\u001b[43m,\u001b[49m\u001b[43m \u001b[49m\u001b[43mi\u001b[49m\u001b[43m \u001b[49m\u001b[38;5;241;43m+\u001b[39;49m\u001b[43m \u001b[49m\u001b[38;5;241;43m1\u001b[39;49m\u001b[43m,\u001b[49m\u001b[43m \u001b[49m\u001b[43moutput\u001b[49m\u001b[43m)\u001b[49m\n\u001b[0;32m     19\u001b[0m     \u001b[38;5;28;01mif\u001b[39;00m (score \u001b[38;5;241m>\u001b[39m \u001b[38;5;241m0\u001b[39m \u001b[38;5;129;01mand\u001b[39;00m (score \u001b[38;5;241m<\u001b[39m b_i \u001b[38;5;129;01mor\u001b[39;00m score \u001b[38;5;241m>\u001b[39m\u001b[38;5;241m=\u001b[39m b_ipp)) \u001b[38;5;129;01mor\u001b[39;00m (score \u001b[38;5;241m<\u001b[39m \u001b[38;5;241m0\u001b[39m \u001b[38;5;129;01mand\u001b[39;00m (score \u001b[38;5;241m<\u001b[39m \u001b[38;5;241m-\u001b[39mb_ipp \u001b[38;5;129;01mor\u001b[39;00m score \u001b[38;5;241m>\u001b[39m\u001b[38;5;241m=\u001b[39m \u001b[38;5;241m-\u001b[39mb_i)):\n\u001b[0;32m     20\u001b[0m         i \u001b[38;5;241m+\u001b[39m\u001b[38;5;241m=\u001b[39m \u001b[38;5;241m1\u001b[39m\n",
      "Cell \u001b[1;32mIn[409], line 12\u001b[0m, in \u001b[0;36mdampening_function.<locals>.b_func\u001b[1;34m(data, i, output)\u001b[0m\n\u001b[0;32m     10\u001b[0m \u001b[38;5;28;01mif\u001b[39;00m i \u001b[38;5;241m==\u001b[39m \u001b[38;5;241m0\u001b[39m:\n\u001b[0;32m     11\u001b[0m     \u001b[38;5;28;01mreturn\u001b[39;00m \u001b[38;5;241m0\u001b[39m\n\u001b[1;32m---> 12\u001b[0m \u001b[38;5;28;01mreturn\u001b[39;00m \u001b[38;5;28msum\u001b[39m([\u001b[43mdelta_func\u001b[49m\u001b[43m(\u001b[49m\u001b[43mdata\u001b[49m\u001b[43m,\u001b[49m\u001b[43m \u001b[49m\u001b[43mj\u001b[49m\u001b[43m,\u001b[49m\u001b[43m \u001b[49m\u001b[43moutput\u001b[49m\u001b[43m,\u001b[49m\u001b[43m \u001b[49m\u001b[43mtarget\u001b[49m\u001b[43m)\u001b[49m \u001b[38;5;28;01mif\u001b[39;00m target \u001b[38;5;241m!=\u001b[39m \u001b[38;5;28;01mNone\u001b[39;00m \u001b[38;5;28;01melse\u001b[39;00m delta_func(data, j, output) \u001b[38;5;28;01mfor\u001b[39;00m j \u001b[38;5;129;01min\u001b[39;00m \u001b[38;5;28mrange\u001b[39m(i \u001b[38;5;241m-\u001b[39m \u001b[38;5;241m1\u001b[39m)])\n",
      "Cell \u001b[1;32mIn[429], line 58\u001b[0m, in \u001b[0;36mlocal_sensivity_at_tDistance_alg7\u001b[1;34m(data, t, col_val, target)\u001b[0m\n\u001b[0;32m     56\u001b[0m       \u001b[38;5;28mprint\u001b[39m(\u001b[38;5;124m\"\u001b[39m\u001b[38;5;124mDOITOOODASKDOAK\u001b[39m\u001b[38;5;124m\"\u001b[39m)\n\u001b[0;32m     57\u001b[0m       \u001b[38;5;28;01mfor\u001b[39;00m x, y \u001b[38;5;129;01min\u001b[39;00m candidates:\n\u001b[1;32m---> 58\u001b[0m         H\u001b[38;5;241m.\u001b[39mappend(\u001b[43mh_func\u001b[49m\u001b[43m(\u001b[49m\u001b[43mx\u001b[49m\u001b[43m,\u001b[49m\u001b[43my\u001b[49m\u001b[43m)\u001b[49m)\n\u001b[0;32m     59\u001b[0m \u001b[38;5;66;03m# retoanr o maior valor H (entropy)\u001b[39;00m\n\u001b[0;32m     60\u001b[0m \u001b[38;5;28;01mreturn\u001b[39;00m \u001b[38;5;28mmax\u001b[39m(H)\n",
      "Cell \u001b[1;32mIn[429], line 33\u001b[0m, in \u001b[0;36mh_func\u001b[1;34m(x, y)\u001b[0m\n\u001b[0;32m     31\u001b[0m \u001b[38;5;28;01mdef\u001b[39;00m \u001b[38;5;21mf_func\u001b[39m(x, somar \u001b[38;5;241m=\u001b[39m \u001b[38;5;28;01mFalse\u001b[39;00m):\n\u001b[0;32m     32\u001b[0m     \u001b[38;5;28;01mreturn\u001b[39;00m x \u001b[38;5;241m*\u001b[39m np\u001b[38;5;241m.\u001b[39mlog2((x \u001b[38;5;241m+\u001b[39m \u001b[38;5;241m1\u001b[39m) \u001b[38;5;241m/\u001b[39m x) \u001b[38;5;241m+\u001b[39m np\u001b[38;5;241m.\u001b[39mlog2(x \u001b[38;5;241m+\u001b[39m \u001b[38;5;241m1\u001b[39m) \u001b[38;5;28;01mif\u001b[39;00m somar \u001b[38;5;28;01melse\u001b[39;00m x \u001b[38;5;241m*\u001b[39m np\u001b[38;5;241m.\u001b[39mlog2((x \u001b[38;5;241m-\u001b[39m \u001b[38;5;241m1\u001b[39m) \u001b[38;5;241m/\u001b[39m x) \u001b[38;5;241m-\u001b[39m np\u001b[38;5;241m.\u001b[39mlog2(x \u001b[38;5;241m-\u001b[39m \u001b[38;5;241m1\u001b[39m)\n\u001b[1;32m---> 33\u001b[0m \u001b[38;5;28;01mreturn\u001b[39;00m \u001b[38;5;28mmax\u001b[39m(f_func(x, \u001b[38;5;28;01mTrue\u001b[39;00m) \u001b[38;5;241m-\u001b[39m \u001b[43mf_func\u001b[49m\u001b[43m(\u001b[49m\u001b[43my\u001b[49m\u001b[43m,\u001b[49m\u001b[43m \u001b[49m\u001b[38;5;28;43;01mTrue\u001b[39;49;00m\u001b[43m)\u001b[49m, f_func(x) \u001b[38;5;241m-\u001b[39m f_func(y))\n",
      "Cell \u001b[1;32mIn[429], line 32\u001b[0m, in \u001b[0;36mh_func.<locals>.f_func\u001b[1;34m(x, somar)\u001b[0m\n\u001b[0;32m     31\u001b[0m \u001b[38;5;28;01mdef\u001b[39;00m \u001b[38;5;21mf_func\u001b[39m(x, somar \u001b[38;5;241m=\u001b[39m \u001b[38;5;28;01mFalse\u001b[39;00m):\n\u001b[1;32m---> 32\u001b[0m     \u001b[38;5;28;01mreturn\u001b[39;00m x \u001b[38;5;241m*\u001b[39m np\u001b[38;5;241m.\u001b[39mlog2(\u001b[43m(\u001b[49m\u001b[43mx\u001b[49m\u001b[43m \u001b[49m\u001b[38;5;241;43m+\u001b[39;49m\u001b[43m \u001b[49m\u001b[38;5;241;43m1\u001b[39;49m\u001b[43m)\u001b[49m\u001b[43m \u001b[49m\u001b[38;5;241;43m/\u001b[39;49m\u001b[43m \u001b[49m\u001b[43mx\u001b[49m) \u001b[38;5;241m+\u001b[39m np\u001b[38;5;241m.\u001b[39mlog2(x \u001b[38;5;241m+\u001b[39m \u001b[38;5;241m1\u001b[39m) \u001b[38;5;28;01mif\u001b[39;00m somar \u001b[38;5;28;01melse\u001b[39;00m x \u001b[38;5;241m*\u001b[39m np\u001b[38;5;241m.\u001b[39mlog2((x \u001b[38;5;241m-\u001b[39m \u001b[38;5;241m1\u001b[39m) \u001b[38;5;241m/\u001b[39m x) \u001b[38;5;241m-\u001b[39m np\u001b[38;5;241m.\u001b[39mlog2(x \u001b[38;5;241m-\u001b[39m \u001b[38;5;241m1\u001b[39m)\n",
      "\u001b[1;31mZeroDivisionError\u001b[0m: division by zero"
     ]
    }
   ],
   "source": [
    "def noisy_count(data: pd.DataFrame, target, epsilon):\n",
    "    '''\n",
    "    Calcula uma estimativa ruidosa da contagem da coluna alvo (target) do dataframe usando o mecanismo NoisyCount.\n",
    "    \n",
    "    Parâmetros:\n",
    "        data (pd.DataFrame): O dataframe contendo os dados.\n",
    "        target (str): O nome da coluna alvo.\n",
    "        epsilon (float): O parâmetro de privacidade epsilon para o mecanismo NoisyCount.\n",
    "    \n",
    "    Retorna:\n",
    "        float: A contagem ruidosa da coluna alvo.\n",
    "    '''\n",
    "    # Contagem exata da coluna alvo\n",
    "    exact_count = data[target].count()\n",
    "    \n",
    "    noise = np.random.laplace(scale=1/epsilon)\n",
    "    \n",
    "    # Adicionar o ruído ao contador exato\n",
    "    noisy_count = exact_count + noise\n",
    "    \n",
    "    return noisy_count\n",
    "\n",
    "# Equação 7.2\n",
    "def score_func_exp(data: pd.DataFrame, r, target):\n",
    "    '''\n",
    "    r = uma coluna específica do dataframe\n",
    "    '''\n",
    "    infGain_list = []\n",
    "    for c in data[target].unique():\n",
    "      for a in data[r].unique():\n",
    "        data_colR_valA = data[data[r] == a]\n",
    "        data_colR_valA_outC = data_colR_valA[data_colR_valA[target] == c]\n",
    "        tau_jc = data_colR_valA_outC.shape[0]\n",
    "        tau_j = data_colR_valA.shape[0]\n",
    "        if tau_jc == 0 or tau_j == 0:\n",
    "            infGain_list.append(0.)\n",
    "            continue \n",
    "        infGain_list.append(tau_jc * np.log2(tau_jc / tau_j))\n",
    "\n",
    "    # print(infGain_list)\n",
    "    return -sum(infGain_list)\n",
    "\n",
    "def build_diff_PID3(data:pd.DataFrame, list_columns: list, target, profundidade, epsilon):\n",
    "    data_target_list = data[target].unique()\n",
    "    if len(list_columns) == 0 or profundidade == 0:\n",
    "        data_output_partitions = [noisy_count(data[data[target] == c], target, epsilon) for c in data_target_list]\n",
    "        max_Nc = max(data_output_partitions)\n",
    "        return (data_target_list[data_output_partitions.index(max_Nc)]) \n",
    "    t_val = max([len(data[col].unique()) for col in list_columns])\n",
    "    N_t = noisy_count(data, target, epsilon)\n",
    "    if N_t / (t_val * len(data_target_list)) < np.sqrt(2)/2:\n",
    "        data_output_partitions = [noisy_count(data[data[target] == c], target, epsilon) for c in data_target_list]\n",
    "        max_Nc = max(data_output_partitions)\n",
    "        return (data_target_list[data_output_partitions.index(max_Nc)]) \n",
    "        \n",
    "    # columns_hat = exp_mechanism_geral(data, score_func_exp, list_columns, epsilon, np.log2(data.shape[0] + 1) + 1/np.log(2), target)\n",
    "    # local_sensivity_at_tDistance_alg7\n",
    "    columns_hat = local_dampening_mechanism(data, score_func_exp, local_sensivity_at_tDistance_alg7, list_columns, epsilon, target)\n",
    "    data_i = [(data[data[columns_hat] == i], i ) for i in data[columns_hat].unique()]\n",
    "    list_columns.remove(columns_hat)\n",
    "    arvore = []\n",
    "    for dado in data_i:\n",
    "        root_node = build_diff_PID3(dado[0], list_columns, target, profundidade - 1, epsilon)\n",
    "        arvore.append({\n",
    "            \"from\": columns_hat,\n",
    "            \"to\": root_node,\n",
    "            \"edge_name\": dado[1]\n",
    "        })\n",
    "    \n",
    "    return arvore\n",
    "\n",
    "def global_diff_PID3(data:pd.DataFrame, target, profundidade: int, privacy_budget: float):\n",
    "    '''\n",
    "    data = um dataframe\n",
    "    target = a coluna alvo, no exemplo do tempo, seria o Y e o N\n",
    "    profundidade = numero que indica a profuntidade\n",
    "    privacy_budget = nivel de privacidade numero\n",
    "    '''\n",
    "    epsilon = privacy_budget / (2 * (profundidade + 1))\n",
    "    lista_colunas = data.columns.to_list()\n",
    "    lista_colunas.remove(target)\n",
    "    return build_diff_PID3(data, lista_colunas, target, profundidade, epsilon)\n",
    "\n",
    "# Atribua um valor de privacidade para o orçamento de privacidade\n",
    "epsilon = 10\n",
    "\n",
    "# Chame a função global_diff_PID3 para construir a árvore de decisão diferencial com privacidade global\n",
    "arvore_molde = global_diff_PID3(df, \"Decision\", 2, epsilon)"
   ]
  },
  {
   "cell_type": "code",
   "execution_count": 401,
   "metadata": {},
   "outputs": [
    {
     "data": {
      "image/png": "[encoded data removed]",
      "text/plain": [
       "<Figure size 640x480 with 1 Axes>"
      ]
     },
     "metadata": {},
     "output_type": "display_data"
    }
   ],
   "source": [
    "# nx.draw(arvore)\n",
    "# plt.show()\n",
    "def molde2draw(molde):\n",
    "    G = nx.DiGraph()\n",
    "    edge_labels = {}\n",
    "    for dict_node in molde:\n",
    "        to_node = dict_node[\"to\"]\n",
    "        G.add_edge(dict_node[\"from\"], dict_node[\"to\"])\n",
    "        edge_labels[(dict_node[\"from\"], dict_node[\"to\"])] = dict_node[\"edge_name\"]\n",
    "    pos = nx.spring_layout(G)\n",
    "    nx.draw(\n",
    "        G, pos, edge_color='black', width=1, linewidths=1,\n",
    "        node_size=500, node_color='pink', alpha=0.9,\n",
    "        labels={node: node for node in G.nodes()}\n",
    "    )\n",
    "    nx.draw_networkx_edge_labels(\n",
    "        G, pos,\n",
    "        edge_labels=edge_labels,\n",
    "        font_color='red'\n",
    "    )\n",
    "    plt.axis('off')\n",
    "    plt.show()\n",
    "# print(arvore_molde)\n",
    "molde2draw(arvore_molde)"
   ]
  },
  {
   "cell_type": "markdown",
   "metadata": {},
   "source": [
    "# Algoritmo 5"
   ]
  },
  {
   "cell_type": "markdown",
   "metadata": {},
   "source": [
    "saida: o indíce do valor mais próximo da mediana\n",
    "\n",
    "entrada: vetor x, com todos valores entre 0 e $\\Lambda$"
   ]
  },
  {
   "cell_type": "code",
   "execution_count": 139,
   "metadata": {},
   "outputs": [],
   "source": [
    "def local_sensivity_at_0(x:list, idx:int):\n",
    "    m = int(np.ceil(len(x)/2))\n",
    "    def p(x, i):\n",
    "        if i > m:\n",
    "            return max(x) - x[i]\n",
    "        if i == m:\n",
    "            return max(x) - x[m + 1]\n",
    "        return max(x) + x[i] - 3 * x[m] + x[m + 1]\n",
    "    def q(x,i):\n",
    "        if i > m:\n",
    "            return x[i]\n",
    "        if i == m:\n",
    "            return x[m - 1]\n",
    "        return 3 * x[m] - x[m - 1] - x[i]\n",
    "    return max(\n",
    "        np.abs(x[m] - x[idx]), \n",
    "        x[m + 1] - x[m],\n",
    "        x[m] - x[m - 1],\n",
    "        p(x,idx),\n",
    "        q(x,idx)\n",
    "    )\n",
    "    \n",
    "def get_canditates_alg5(x, t, i):\n",
    "    m = int(np.ceil(len(x)/2))\n",
    "    if t == 0:\n",
    "        return [x]\n",
    "    if t == 1:\n",
    "        list_candidates = [x.copy() for j in range(6)]\n",
    "        list_candidates[0][-1] = x[i]\n",
    "        list_candidates[1] = list_candidates[0]\n",
    "        list_candidates[2][0] = x[i]\n",
    "        list_candidates[3] = list_candidates[2]\n",
    "        list_candidates[4][-1] = x[m]\n",
    "        list_candidates[5][0] = x[m]\n",
    "        return list_candidates\n",
    "    list_candidates = get_canditates_alg5(x, t-1, i)\n",
    "    # print(list_candidates)\n",
    "    list_candidates[0][0] = list_candidates[0][m]\n",
    "    list_candidates[1][-1] = list_candidates[1][m]\n",
    "    list_candidates[2][0] = list_candidates[2][m]\n",
    "    list_candidates[3][-1] = list_candidates[3][m]\n",
    "    list_candidates[4][0] = list_candidates[4][m]\n",
    "    list_candidates[5][-1] = list_candidates[5][m]\n",
    "    return list_candidates\n",
    "\n",
    "def local_sensivity_at_tDistance(x, t, i):\n",
    "    list_candidates = get_canditates_alg5(x, t, i)\n",
    "    return max(local_sensivity_at_0(candidate, i) for candidate in list_candidates)\n",
    "\n",
    "def score_func(x, idx):\n",
    "    m = int(np.ceil(len(x)/2))\n",
    "    return -np.abs(x[m] - x[idx])"
   ]
  },
  {
   "cell_type": "code",
   "execution_count": 156,
   "metadata": {},
   "outputs": [],
   "source": [
    "x = [1,3,4,5,10,32,34,37,200]\n",
    "epsilon = 100\n",
    "# delta u\n",
    "max_u = max(x)\n",
    "n_amostras = 10000\n",
    "list_outputs = [i for i in range(len(x))]\n",
    "# delta star\n",
    "max_utility = max(score_func(x, i) for i in range(len(x)))"
   ]
  },
  {
   "cell_type": "markdown",
   "metadata": {},
   "source": [
    "## Avalaiando"
   ]
  },
  {
   "cell_type": "code",
   "execution_count": 184,
   "metadata": {},
   "outputs": [],
   "source": [
    "def avaliation(x, score_func, list_outputs, epsilon_range, max_u = None, n_amostras = 10000, typo_mech = \"exp\"):\n",
    "    evaluate = {}\n",
    "    for epsilon in tqdm(epsilon_range, desc=\"Processando epsilons\", unit=\" valor\"):\n",
    "        if typo_mech == \"exp\":\n",
    "            evaluate[epsilon] = [exp_mechanism_geral(x, score_func, list_outputs, epsilon, max_u) for i in range(n_amostras)]\n",
    "        if typo_mech == \"paf\":\n",
    "            evaluate[epsilon] = [permute_and_flip(x, score_func, list_outputs, epsilon, max_u) for i in range(n_amostras)]\n",
    "    \n",
    "    return evaluate\n",
    "\n",
    "epsilons = np.linspace(10**-3, 10**3, 100)"
   ]
  },
  {
   "cell_type": "markdown",
   "metadata": {},
   "source": [
    "### exponencial mechanism"
   ]
  },
  {
   "cell_type": "code",
   "execution_count": 185,
   "metadata": {},
   "outputs": [
    {
     "name": "stderr",
     "output_type": "stream",
     "text": [
      "Processando epsilons: 100%|██████████| 100/100 [01:44<00:00,  1.05s/ valor]\n"
     ]
    }
   ],
   "source": [
    "evalueate_exp = avaliation(x, score_func, list_outputs, epsilons, max_u, typo_mech = \"exp\")"
   ]
  },
  {
   "cell_type": "code",
   "execution_count": null,
   "metadata": {},
   "outputs": [],
   "source": [
    "for ep, err in evalueate_exp.items():\n",
    "    print(err)"
   ]
  },
  {
   "cell_type": "markdown",
   "metadata": {},
   "source": [
    "### permuta and flip"
   ]
  },
  {
   "cell_type": "code",
   "execution_count": 186,
   "metadata": {},
   "outputs": [
    {
     "name": "stderr",
     "output_type": "stream",
     "text": [
      "Processando epsilons: 100%|██████████| 100/100 [00:47<00:00,  2.12 valor/s]\n"
     ]
    }
   ],
   "source": [
    "evalueate_paf = avaliation(x, score_func, list_outputs, epsilons, max_u, typo_mech = \"paf\")"
   ]
  },
  {
   "cell_type": "code",
   "execution_count": null,
   "metadata": {},
   "outputs": [],
   "source": [
    "for ep, err in evalueate_paf.items():\n",
    "    print(err)"
   ]
  },
  {
   "cell_type": "markdown",
   "metadata": {},
   "source": [
    "### Local Dampening"
   ]
  },
  {
   "cell_type": "code",
   "execution_count": 187,
   "metadata": {},
   "outputs": [
    {
     "name": "stdout",
     "output_type": "stream",
     "text": [
      "[1.343160901102686e-17, 5.641892828832433e-18, 3.690221943266237e-18, 2.42805643042292e-18, 3.2594197844862084e-19, nan, 3.5228900314972523e-22, 8.940704392217478e-22, 0.00033546262790251126]\n",
      "[nan nan nan nan nan nan nan nan nan]\n"
     ]
    },
    {
     "name": "stderr",
     "output_type": "stream",
     "text": [
      "C:\\Users\\b47133\\AppData\\Local\\Temp\\ipykernel_12044\\2203152617.py:23: RuntimeWarning: invalid value encountered in scalar divide\n",
      "  return (score - b_i) / (b_ipp - b_i) + i if score > 0 else (score + b_i) / (-b_ipp + b_i) - i\n"
     ]
    },
    {
     "ename": "ValueError",
     "evalue": "probabilities contain NaN",
     "output_type": "error",
     "traceback": [
      "\u001b[1;31m---------------------------------------------------------------------------\u001b[0m",
      "\u001b[1;31mValueError\u001b[0m                                Traceback (most recent call last)",
      "Cell \u001b[1;32mIn[187], line 1\u001b[0m\n\u001b[1;32m----> 1\u001b[0m experimentations \u001b[38;5;241m=\u001b[39m [\u001b[43mlocal_dampening_mechanism\u001b[49m\u001b[43m(\u001b[49m\u001b[43mx\u001b[49m\u001b[43m,\u001b[49m\u001b[43m \u001b[49m\u001b[43mscore_func\u001b[49m\u001b[43m,\u001b[49m\u001b[43m \u001b[49m\u001b[43mlocal_sensivity_at_tDistance\u001b[49m\u001b[43m,\u001b[49m\u001b[43m \u001b[49m\u001b[43m[\u001b[49m\u001b[43mi\u001b[49m\u001b[43m \u001b[49m\u001b[38;5;28;43;01mfor\u001b[39;49;00m\u001b[43m \u001b[49m\u001b[43mi\u001b[49m\u001b[43m \u001b[49m\u001b[38;5;129;43;01min\u001b[39;49;00m\u001b[43m \u001b[49m\u001b[38;5;28;43mrange\u001b[39;49m\u001b[43m(\u001b[49m\u001b[38;5;28;43mlen\u001b[39;49m\u001b[43m(\u001b[49m\u001b[43mx\u001b[49m\u001b[43m)\u001b[49m\u001b[43m)\u001b[49m\u001b[43m]\u001b[49m\u001b[43m,\u001b[49m\u001b[43m \u001b[49m\u001b[43mepsilon\u001b[49m\u001b[43m)\u001b[49m \u001b[38;5;28;01mfor\u001b[39;00m i \u001b[38;5;129;01min\u001b[39;00m \u001b[38;5;28mrange\u001b[39m(n_amostras)]\n\u001b[0;32m      2\u001b[0m dict_stats \u001b[38;5;241m=\u001b[39m {}\n\u001b[0;32m      3\u001b[0m \u001b[38;5;28;01mfor\u001b[39;00m i \u001b[38;5;129;01min\u001b[39;00m experimentations:\n",
      "Cell \u001b[1;32mIn[151], line 31\u001b[0m, in \u001b[0;36mlocal_dampening_mechanism\u001b[1;34m(data, score_func, delta_func, list_outputs, epsilon)\u001b[0m\n\u001b[0;32m     29\u001b[0m probs_normalizadas \u001b[38;5;241m=\u001b[39m probs \u001b[38;5;241m/\u001b[39m np\u001b[38;5;241m.\u001b[39mlinalg\u001b[38;5;241m.\u001b[39mnorm(probs, \u001b[38;5;28mord\u001b[39m\u001b[38;5;241m=\u001b[39m\u001b[38;5;241m1\u001b[39m)\n\u001b[0;32m     30\u001b[0m \u001b[38;5;28mprint\u001b[39m(probs_normalizadas)\n\u001b[1;32m---> 31\u001b[0m \u001b[38;5;28;01mreturn\u001b[39;00m \u001b[43mnp\u001b[49m\u001b[38;5;241;43m.\u001b[39;49m\u001b[43mrandom\u001b[49m\u001b[38;5;241;43m.\u001b[39;49m\u001b[43mchoice\u001b[49m\u001b[43m(\u001b[49m\u001b[43mlist_outputs\u001b[49m\u001b[43m,\u001b[49m\u001b[43m \u001b[49m\u001b[38;5;241;43m1\u001b[39;49m\u001b[43m,\u001b[49m\u001b[43m \u001b[49m\u001b[43mp\u001b[49m\u001b[38;5;241;43m=\u001b[39;49m\u001b[43mprobs_normalizadas\u001b[49m\u001b[43m)\u001b[49m[\u001b[38;5;241m0\u001b[39m]\n",
      "File \u001b[1;32mnumpy\\\\random\\\\mtrand.pyx:971\u001b[0m, in \u001b[0;36mnumpy.random.mtrand.RandomState.choice\u001b[1;34m()\u001b[0m\n",
      "\u001b[1;31mValueError\u001b[0m: probabilities contain NaN"
     ]
    }
   ],
   "source": [
    "experimentations = [local_dampening_mechanism(x, score_func, local_sensivity_at_tDistance, [i for i in range(len(x))], epsilon) for i in range(n_amostras)]\n",
    "dict_stats = {}\n",
    "for i in experimentations:\n",
    "    if x[i] in dict_stats:\n",
    "        dict_stats[x[i]] += 1\n",
    "    else:\n",
    "        dict_stats[x[i]] = 1\n",
    "dict_stats_sorted = dict(sorted(dict_stats.items(), key=lambda item: item[1], reverse=True))\n",
    "for k,v in dict_stats_sorted.items():\n",
    "    print(f\"o valor {k} foi retornado {v} vezes\")\n",
    "\n",
    "print(f\"\\nTaxa de epsilon = {epsilon}\\nMediana real = {x[int(np.ceil(len(x)/2))]}\\nNúmero de amostras = {n_amostras}\\n\\nX verdadeiro: {x}\")"
   ]
  }
 ],
 "metadata": {
  "kernelspec": {
   "display_name": "Python 3",
   "language": "python",
   "name": "python3"
  },
  "language_info": {
   "codemirror_mode": {
    "name": "ipython",
    "version": 3
   },
   "file_extension": ".py",
   "mimetype": "text/x-python",
   "name": "python",
   "nbconvert_exporter": "python",
   "pygments_lexer": "ipython3",
   "version": "3.12.1"
  }
 },
 "nbformat": 4,
 "nbformat_minor": 2
}
